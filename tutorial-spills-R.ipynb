{
 "cells": [
  {
   "cell_type": "markdown",
   "id": "079abe25-1946-4113-ac63-7dd185c4efdb",
   "metadata": {},
   "source": [
    "# Analyzing .csv Chemical Spills Datasets \n",
    "### <i>An OSPool Tutorial</i>"
   ]
  },
  {
   "cell_type": "markdown",
   "id": "5a0c3d82-d9b3-4e4d-bbfa-64d2d5ad5233",
   "metadata": {},
   "source": [
    "Spills of hazardous materials, like petroleum, mercury, and battery acid, that can impact water and land quality are required to be reported to the United State's government by law. In this tutorial, we will analyze records provided by the state of New York on occurances of spills of hazardous materials that occured from 1950 to 2019.\n",
    "\n",
    "The data used in this tutorial was collected from https://catalog.data.gov/dataset/spill-incidents/resource/a8f9d3c8-c3fa-4ca1-a97a-55e55ca6f8c0 and modified for teaching purposes. "
   ]
  },
  {
   "cell_type": "markdown",
   "id": "c61d426f-1f78-44fc-9597-58b2b2e75d7d",
   "metadata": {},
   "source": [
    "## Step 1: Get to Know Hazardous Spills Dataset"
   ]
  },
  {
   "cell_type": "markdown",
   "id": "85c81866-2226-4f88-8950-20e47c951773",
   "metadata": {},
   "source": [
    "Let's explore the data files that we will be analyzing. Before we do so, we must make sure we are in the tutorial directory (`tutorial-spills-R/`). We can do this by printing your working directory (`pwd`): "
   ]
  },
  {
   "cell_type": "code",
   "execution_count": null,
   "id": "4e635517-4c36-48f1-9e63-62b21e0397c8",
   "metadata": {},
   "outputs": [],
   "source": [
    "pwd"
   ]
  },
  {
   "cell_type": "markdown",
   "id": "b853f2d8-1f55-4493-82bb-70de135fc203",
   "metadata": {},
   "source": [
    "We should see something similar to `/home/jovyan/tutorial-spills-R/`, where `jovyan` could alternatively be your OSG account username. "
   ]
  },
  {
   "cell_type": "markdown",
   "id": "5f38d633-6f6a-408e-bc1a-553276757e4c",
   "metadata": {},
   "source": [
    "Next, let's navigate to our `/data` directory and list (`ls`) the files inside of it: "
   ]
  },
  {
   "cell_type": "code",
   "execution_count": null,
   "id": "5e5d23de-a52a-4104-8eac-15249f6d817d",
   "metadata": {},
   "outputs": [],
   "source": [
    "cd data/"
   ]
  },
  {
   "cell_type": "code",
   "execution_count": null,
   "id": "7a5c88f5-84ee-4c3a-bf10-349e88e4beb6",
   "metadata": {},
   "outputs": [],
   "source": [
    "ls"
   ]
  },
  {
   "cell_type": "markdown",
   "id": "6550b246-098f-4e17-849f-e9f39d086736",
   "metadata": {},
   "source": [
    "We should see seven `.csv` files named using the format `spills_<StartingYear>_<EndingYear>.csv`, one for each decade between 1950-2019."
   ]
  },
  {
   "cell_type": "markdown",
   "id": "5ae6aa05-c190-42e8-9c45-85c922533cf3",
   "metadata": {},
   "source": [
    "To explore the contents of these files, we can use commands like `head -n 5 <fileName>` to view the first 5 lines of our data files. "
   ]
  },
  {
   "cell_type": "code",
   "execution_count": null,
   "id": "7ea43537-68e0-48d3-99a0-a44689c8cdcd",
   "metadata": {},
   "outputs": [],
   "source": [
    "head -n 5 spills_1980_1989.csv  "
   ]
  },
  {
   "cell_type": "markdown",
   "id": "cc86eecd-f444-4ef7-bc49-b7aecae392f2",
   "metadata": {},
   "source": [
    "<span style=\"color:blue\">If using the [OSPool Notebook](https://portal.osg-htc.org/documentation/htc_workloads/submitting_workloads/jupyter/), you can also use the navigation bar on the left side of your notebook to double-click and open each comma seperated value (\"csv\") .csv file and see it in a table format, instead of a traditional command line rendering above.</span>"
   ]
  },
  {
   "cell_type": "markdown",
   "id": "49e8c4a6-c5be-4e3d-a6a8-97387b562571",
   "metadata": {},
   "source": [
    "## Step 2: Prepare the R Executable"
   ]
  },
  {
   "cell_type": "markdown",
   "id": "6934321a-e739-4eaa-8b94-bb2a65a838bb",
   "metadata": {},
   "source": [
    "Next, we need to create an R script to anayze our datasets. An example of an R script can be found in our main tutorial directory, so let's navigate there: "
   ]
  },
  {
   "cell_type": "code",
   "execution_count": null,
   "id": "00ffc1da-c6b5-476e-b1f6-e99a56ebcb2e",
   "metadata": {},
   "outputs": [],
   "source": [
    "cd ../ # change directory to move one up"
   ]
  },
  {
   "cell_type": "code",
   "execution_count": null,
   "id": "2c4ccd4b-879d-4351-8bc8-e26e2a0f90e0",
   "metadata": {},
   "outputs": [],
   "source": [
    "ls # list files"
   ]
  },
  {
   "cell_type": "markdown",
   "id": "43b1f1b2-36e0-4d79-a837-af5a83fdabaf",
   "metadata": {},
   "source": [
    "Then let us print the contents of our executable script: "
   ]
  },
  {
   "cell_type": "code",
   "execution_count": null,
   "id": "d8e573eb-c232-4b95-bbb1-5a9d4e82e61b",
   "metadata": {},
   "outputs": [],
   "source": [
    "cat spill_calculation.r"
   ]
  },
  {
   "cell_type": "markdown",
   "id": "a287874a-502c-4372-b01d-20e7ba08011b",
   "metadata": {},
   "source": [
    "This script will read in the name of the dataset `.csv` file as an argument and then will carry out summary statistics to print out the number of hazardous spills recorded and the total size (in gallons)."
   ]
  },
  {
   "cell_type": "markdown",
   "id": "ba1979d2-c45f-4e86-b9df-44409924653a",
   "metadata": {},
   "source": [
    "## Step 3: Prepare Portable Software"
   ]
  },
  {
   "cell_type": "markdown",
   "id": "9996e7f9-6dce-4f28-9c38-c68e61c6a896",
   "metadata": {},
   "source": [
    "Some common software, like R, are provided by OSG using containers. Because of this, you do not need to install R yourself, you will just tell HTCondor what container to use for your jobs. Additionally, this tutorial just uses base-R and no special libraries, but if you need libraries (e.g., tidyverse, ggplot2) you can always install them in your R container. "
   ]
  },
  {
   "cell_type": "markdown",
   "id": "e3dd15b3-84ed-4071-8cb6-5e3f5f50c069",
   "metadata": {},
   "source": [
    "A list of containers and other software provided by OSG staff can be found on our website [https://portal.osg-htc.org/documentation/](https://portal.osg-htc.org/documentation/), along with resources for learning how to add libraries to your container. "
   ]
  },
  {
   "cell_type": "markdown",
   "id": "6f6622c3-a964-445f-ae28-7867b7e006af",
   "metadata": {},
   "source": [
    "We will be using the R container for R 3.5.0, which is accessable under `/cvmfs/singularity.opensciencegrid.org/opensciencegrid/osgvo-r:3.5.0`, so we must make sure to tell HTCondor to fetch this container when starting each of our jobs. We have already included the command to do so in the provided submit file. For more information on how to use containers, see our [container guide](https://portal.osg-htc.org/documentation/htc_workloads/using_software/containers-singularity/)."
   ]
  },
  {
   "cell_type": "markdown",
   "id": "3d3706b2-597d-4e2e-878c-b22c57b770b1",
   "metadata": {},
   "source": [
    "## Step 4: Prepare and Submit an HTCondor Submit File for One Test Job"
   ]
  },
  {
   "cell_type": "markdown",
   "id": "dd9ccbcd-9db3-4fdc-b300-6d4e51f209aa",
   "metadata": {},
   "source": [
    "The HTCondor submit file tells the HTCondor how you would like your job to be run on your behalf."
   ]
  },
  {
   "cell_type": "markdown",
   "id": "99378d96-680d-4cdc-b522-a14043c9998e",
   "metadata": {},
   "source": [
    "For example, you should specify what executable you want run, if you want a container/the name of that container, the resources you would like available to your job, and any special requirements. "
   ]
  },
  {
   "cell_type": "markdown",
   "id": "f7e6d95f-8bee-43ed-847e-841a5206db5a",
   "metadata": {},
   "source": [
    "### Step 4A: Prepare and Submit an HTCondor Submit File"
   ]
  },
  {
   "cell_type": "markdown",
   "id": "405e8755-4a89-432c-b288-509d6dcf410e",
   "metadata": {},
   "source": [
    "A sample submit file to analyze our smallest dataset, `spills_1950_1959.csv`, is provided for you. Take a look at it with the command: "
   ]
  },
  {
   "cell_type": "code",
   "execution_count": null,
   "id": "d2fc289a-99fa-4ba0-8ad5-ce61fa022d2e",
   "metadata": {},
   "outputs": [],
   "source": [
    "cat R.submit"
   ]
  },
  {
   "cell_type": "markdown",
   "id": "029ca7fa-5502-486e-b402-7c86248ca89d",
   "metadata": {},
   "source": [
    "We can submit this job using `condor_submit <SubmitFile>`:"
   ]
  },
  {
   "cell_type": "code",
   "execution_count": null,
   "id": "e9b033bb-cdd2-4ebe-a164-81cf6c2601e0",
   "metadata": {},
   "outputs": [],
   "source": [
    "condor_submit R.submit"
   ]
  },
  {
   "cell_type": "markdown",
   "id": "b1275ae5-957c-4ed8-89cf-a1dc2df0b29e",
   "metadata": {},
   "source": [
    "We can check on the status of our job in HTCondor's queue by running: "
   ]
  },
  {
   "cell_type": "code",
   "execution_count": null,
   "id": "67f3439e-5f7d-4b9b-8c74-2a18dc543759",
   "metadata": {},
   "outputs": [],
   "source": [
    "condor_q"
   ]
  },
  {
   "cell_type": "markdown",
   "id": "d2e22054-f215-4a5c-bd88-d612d0f5524b",
   "metadata": {},
   "source": [
    "Once our job is done running, it will leave HTCondor's queue automatically. "
   ]
  },
  {
   "cell_type": "markdown",
   "id": "1188b211-cc4f-4726-9409-88f222d6b0f6",
   "metadata": {},
   "source": [
    "### Step 4B: Review Test Job Results"
   ]
  },
  {
   "cell_type": "markdown",
   "id": "d5f96a06-fea0-490e-8889-e176784be971",
   "metadata": {},
   "source": [
    "Once our job is done running, we can check the results by looking in our `output` folder: "
   ]
  },
  {
   "cell_type": "code",
   "execution_count": null,
   "id": "6c581309-e0af-40b5-a08d-83141e50044a",
   "metadata": {},
   "outputs": [],
   "source": [
    "cat output/spills.out"
   ]
  },
  {
   "cell_type": "markdown",
   "id": "e4fdab2b-d947-4716-aa54-9966d3d18fd1",
   "metadata": {},
   "source": [
    "We should see that from 1950-1959, New York recorded five spills that totalled less than 0 recorded gallons. "
   ]
  },
  {
   "cell_type": "markdown",
   "id": "046c4738-d6e1-4d3c-8640-771763470ed0",
   "metadata": {},
   "source": [
    "## Step 5: Scale Out Your Workflow to Analyze Many Datasets"
   ]
  },
  {
   "cell_type": "markdown",
   "id": "792d0b37-7214-4373-900d-41ffbfa41582",
   "metadata": {},
   "source": [
    "We just prepared and ran one job analyzing the `spills_1950_1959.csv` dataset! But now, we want to analyze the remaining 6 datasets. Luckily, HTCondor is very helpful when it comes to rapidly queueing many small jobs!"
   ]
  },
  {
   "cell_type": "markdown",
   "id": "2a1ad844-46a3-4d64-bc86-331995df62e6",
   "metadata": {},
   "source": [
    "To do so, we will update our submit file to use the `queue <variable> from <list>` syntax. But before we do this, we need to create a list of the files we want to queue a job for:  "
   ]
  },
  {
   "cell_type": "code",
   "execution_count": null,
   "id": "91bec8e5-fea2-4413-bb1d-4c532098c475",
   "metadata": {},
   "outputs": [],
   "source": [
    "cd data/"
   ]
  },
  {
   "cell_type": "code",
   "execution_count": null,
   "id": "6e080010",
   "metadata": {},
   "outputs": [],
   "source": [
    "ls *.csv > ../list_of_datasets.txt"
   ]
  },
  {
   "cell_type": "code",
   "execution_count": null,
   "id": "609326bc",
   "metadata": {},
   "outputs": [],
   "source": [
    "cd ../"
   ]
  },
  {
   "cell_type": "code",
   "execution_count": null,
   "id": "827f842a-d9af-4e60-a883-74adfd4b2bad",
   "metadata": {},
   "outputs": [],
   "source": [
    "cat list_of_datasets.txt"
   ]
  },
  {
   "cell_type": "markdown",
   "id": "6b12f357-9bf0-439a-ba02-db5a1b4dc9e2",
   "metadata": {},
   "source": [
    "Great! Now we have a list of the files we want analyzed, where each file is on it's own seperate line. "
   ]
  },
  {
   "cell_type": "markdown",
   "id": "3c2e4662-fd20-495f-bb5d-e9717f44ba3a",
   "metadata": {},
   "source": [
    "### Step 5A: Update submit file to queue a job for each dataset"
   ]
  },
  {
   "cell_type": "markdown",
   "id": "795b45b3-4203-482e-bcf4-8d1f991f9537",
   "metadata": {},
   "source": [
    "Now, let's modify the queue line of our submit file to use the new queue syntax. For this, we can choose almost any variable name, so for simplicity, let's choose `dataset` such that we have `queue dataset from list_of_datasets.txt`. "
   ]
  },
  {
   "cell_type": "markdown",
   "id": "ff053a12-417f-4f25-adc4-27855b856a15",
   "metadata": {},
   "source": [
    "We can then call this new variable, `dataset`, elsewhere in our submit file by wrapping it with `$()` like so: `$(dataset)`. "
   ]
  },
  {
   "cell_type": "markdown",
   "id": "f7d87eab-de10-47c4-92d3-114100663a7a",
   "metadata": {},
   "source": [
    "We have provided the file `many-R.submit` with these changes already applied. Take a look at this modifed submit file with: "
   ]
  },
  {
   "cell_type": "code",
   "execution_count": null,
   "id": "b045e8c2-8260-4648-92c1-857001606f52",
   "metadata": {},
   "outputs": [],
   "source": [
    "cat many-R.submit"
   ]
  },
  {
   "cell_type": "markdown",
   "id": "869c7742-5f25-46cc-9829-2e5c35ca50b6",
   "metadata": {},
   "source": [
    "### Step 5B: Submit Many Jobs"
   ]
  },
  {
   "cell_type": "markdown",
   "id": "4eaf59e1-7517-4c76-913f-830363f70e41",
   "metadata": {},
   "source": [
    "Now we can submit our new submit file using `condor_submit` again:"
   ]
  },
  {
   "cell_type": "code",
   "execution_count": null,
   "id": "30c3cd2a-8f1a-4949-ae38-4f917ab294b1",
   "metadata": {},
   "outputs": [],
   "source": [
    "condor_submit many-R.submit"
   ]
  },
  {
   "cell_type": "markdown",
   "id": "1a579d16-f0b8-4e62-b809-030bf2d46a7f",
   "metadata": {},
   "source": [
    "Notice that we have now queued 7 jobs using one submit file!"
   ]
  },
  {
   "cell_type": "markdown",
   "id": "bc82b0a0-d473-481e-8815-43829159e8f4",
   "metadata": {},
   "source": [
    "### Step 5C: Analysis Completed!"
   ]
  },
  {
   "cell_type": "markdown",
   "id": "194ef732-bf76-44ea-854f-cb7d77152db5",
   "metadata": {},
   "source": [
    "We can check on the status of our 7 jobs using `condor_q`:"
   ]
  },
  {
   "cell_type": "code",
   "execution_count": null,
   "id": "44313855-22a3-47ce-9a62-e0a5ff933e3e",
   "metadata": {},
   "outputs": [],
   "source": [
    "condor_q"
   ]
  },
  {
   "cell_type": "markdown",
   "id": "5d76d2a5-623b-4806-87e8-905cb8c9af85",
   "metadata": {},
   "source": [
    "Once our jobs are done, we can also review our output files:"
   ]
  },
  {
   "cell_type": "code",
   "execution_count": null,
   "id": "fe74676e-1016-449f-a917-a95c4bec2f3e",
   "metadata": {},
   "outputs": [],
   "source": [
    "cat output/*.csv.out"
   ]
  },
  {
   "cell_type": "markdown",
   "id": "33c25db2-7618-46de-aa22-cbef1e10da3f",
   "metadata": {},
   "source": [
    "In a few minutes, we were able to take our R script and run several jobs to analyze all of our real-world data. <i>Congratulations!</i>"
   ]
  }
 ],
 "metadata": {
  "kernelspec": {
   "display_name": "Bash",
   "language": "bash",
   "name": "bash"
  },
  "language_info": {
   "codemirror_mode": "shell",
   "file_extension": ".sh",
   "mimetype": "text/x-sh",
   "name": "bash"
  }
 },
 "nbformat": 4,
 "nbformat_minor": 5
}
